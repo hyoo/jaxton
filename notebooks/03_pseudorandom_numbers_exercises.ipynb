{
  "metadata": {
    "kernelspec": {
      "language": "python",
      "display_name": "Python 3",
      "name": "python3"
    },
    "language_info": {
      "name": "python",
      "version": "3.7.12",
      "mimetype": "text/x-python",
      "codemirror_mode": {
        "name": "ipython",
        "version": 3
      },
      "pygments_lexer": "ipython3",
      "nbconvert_exporter": "python",
      "file_extension": ".py"
    },
    "colab": {
      "name": "03_pseudorandom_numbers_exercises.ipynb",
      "provenance": []
    }
  },
  "nbformat_minor": 0,
  "nbformat": 4,
  "cells": [
    {
      "cell_type": "markdown",
      "source": [
        "<center>\n",
        "    <h1>JaxTon</h1>\n",
        "    <i>💯 JAX exercises</i>\n",
        "    <br>\n",
        "    <br>\n",
        "    <a href='https://github.com/vopani/jaxton/blob/master/LICENSE'>\n",
        "        <img src='https://img.shields.io/badge/license-Apache%202.0-blue.svg?logo=apache'>\n",
        "    </a>\n",
        "    <a href='https://github.com/vopani/jaxton'>\n",
        "        <img src='https://img.shields.io/github/stars/vopani/jaxton?color=yellowgreen&logo=github'>\n",
        "    </a>\n",
        "    <a href='https://twitter.com/vopani'>\n",
        "        <img src='https://img.shields.io/twitter/follow/vopani'>\n",
        "    </a>\n",
        "</center>"
      ],
      "metadata": {
        "id": "ZwFa1DDfGfBk"
      }
    },
    {
      "cell_type": "markdown",
      "source": [
        "<center>\n",
        "    This is Set 3: Pseudorandom Numbers (Exercises 21-30) of <b>JaxTon</b>: <i>💯 JAX exercises</i>\n",
        "    <br>\n",
        "    You can find all the exercises and solutions on <a href=\"https://github.com/vopani/jaxton#exercises-\">GitHub</a>\n",
        "</center>"
      ],
      "metadata": {
        "id": "hHMByr7iGfBn"
      }
    },
    {
      "cell_type": "markdown",
      "source": [
        "**Prerequisites**\n",
        "\n",
        "* The configuration of jax should be set as shown in the code snippet below in order to use TPUs.\n",
        "* A sample array `sample_data` will be used for the exercises."
      ],
      "metadata": {
        "id": "X60wyg1sGfBn"
      }
    },
    {
      "cell_type": "code",
      "source": [
        "!python3 -m pip install jax"
      ],
      "metadata": {
        "_kg_hide-input": true,
        "_kg_hide-output": true,
        "execution": {
          "iopub.status.busy": "2022-02-07T06:11:41.196161Z",
          "iopub.execute_input": "2022-02-07T06:11:41.196526Z",
          "iopub.status.idle": "2022-02-07T06:11:55.096828Z",
          "shell.execute_reply.started": "2022-02-07T06:11:41.196435Z",
          "shell.execute_reply": "2022-02-07T06:11:55.095242Z"
        },
        "trusted": true,
        "id": "xIWKcOIlGfBo",
        "outputId": "a5dcbd0d-fe46-4ebc-b8f8-f28fee33e4a0",
        "colab": {
          "base_uri": "https://localhost:8080/"
        }
      },
      "execution_count": 1,
      "outputs": [
        {
          "output_type": "stream",
          "name": "stdout",
          "text": [
            "Requirement already satisfied: jax in /usr/local/lib/python3.7/dist-packages (0.2.25)\n",
            "Requirement already satisfied: absl-py in /usr/local/lib/python3.7/dist-packages (from jax) (1.0.0)\n",
            "Requirement already satisfied: opt-einsum in /usr/local/lib/python3.7/dist-packages (from jax) (3.3.0)\n",
            "Requirement already satisfied: numpy>=1.18 in /usr/local/lib/python3.7/dist-packages (from jax) (1.19.5)\n",
            "Requirement already satisfied: typing-extensions in /usr/local/lib/python3.7/dist-packages (from jax) (3.10.0.2)\n",
            "Requirement already satisfied: scipy>=1.2.1 in /usr/local/lib/python3.7/dist-packages (from jax) (1.4.1)\n",
            "Requirement already satisfied: six in /usr/local/lib/python3.7/dist-packages (from absl-py->jax) (1.15.0)\n"
          ]
        }
      ]
    },
    {
      "cell_type": "code",
      "source": [
        "## import packages\n",
        "import jax\n",
        "import jax.numpy as jnp\n",
        "import os\n",
        "import requests\n",
        "\n",
        "## setup JAX to use TPUs if available\n",
        "try:\n",
        "    url = 'http:' + os.environ['TPU_NAME'].split(':')[1] + ':8475/requestversion/tpu_driver_nightly'\n",
        "    resp = requests.post(url)\n",
        "    jax.config.FLAGS.jax_xla_backend = 'tpu_driver'\n",
        "    jax.config.FLAGS.jax_backend_target = os.environ['TPU_NAME']\n",
        "except:\n",
        "    pass\n",
        "\n",
        "jax.devices()"
      ],
      "metadata": {
        "_kg_hide-input": false,
        "execution": {
          "iopub.status.busy": "2022-02-07T06:11:55.099712Z",
          "iopub.execute_input": "2022-02-07T06:11:55.100136Z",
          "iopub.status.idle": "2022-02-07T06:11:58.118425Z",
          "shell.execute_reply.started": "2022-02-07T06:11:55.10008Z",
          "shell.execute_reply": "2022-02-07T06:11:58.117686Z"
        },
        "trusted": true,
        "id": "vVuLkMi9GfBo",
        "outputId": "3df0572f-170e-4a6b-d4f4-68fcc830d30b",
        "colab": {
          "base_uri": "https://localhost:8080/"
        }
      },
      "execution_count": 2,
      "outputs": [
        {
          "output_type": "stream",
          "name": "stderr",
          "text": [
            "WARNING:absl:No GPU/TPU found, falling back to CPU. (Set TF_CPP_MIN_LOG_LEVEL=0 and rerun for more info.)\n"
          ]
        },
        {
          "output_type": "execute_result",
          "data": {
            "text/plain": [
              "[<jaxlib.xla_extension.Device at 0x7fc20d740770>]"
            ]
          },
          "metadata": {},
          "execution_count": 2
        }
      ]
    },
    {
      "cell_type": "code",
      "source": [
        "## sample data\n",
        "sample_data = jnp.array([10, 1, 24, 20, 15, 14])\n",
        "sample_data"
      ],
      "metadata": {
        "execution": {
          "iopub.status.busy": "2022-02-07T06:11:58.119827Z",
          "iopub.execute_input": "2022-02-07T06:11:58.120227Z",
          "iopub.status.idle": "2022-02-07T06:11:58.138095Z",
          "shell.execute_reply.started": "2022-02-07T06:11:58.120178Z",
          "shell.execute_reply": "2022-02-07T06:11:58.13668Z"
        },
        "trusted": true,
        "id": "gnfFM2k-GfBp",
        "outputId": "90571ea5-dff3-4380-8c17-2bad8b1d2152",
        "colab": {
          "base_uri": "https://localhost:8080/"
        }
      },
      "execution_count": 27,
      "outputs": [
        {
          "output_type": "execute_result",
          "data": {
            "text/plain": [
              "DeviceArray([10,  1, 24, 20, 15, 14], dtype=int32)"
            ]
          },
          "metadata": {},
          "execution_count": 27
        }
      ]
    },
    {
      "cell_type": "markdown",
      "source": [
        "**Exercise 21: Create a pseudorandom number generator key with seed=100 and assign it to `key`**"
      ],
      "metadata": {
        "id": "gDxsdHpmGfBp"
      }
    },
    {
      "cell_type": "code",
      "source": [
        "key = jax.random.PRNGKey(100)\n",
        "key"
      ],
      "metadata": {
        "trusted": true,
        "id": "6SgPr-HcGfBq",
        "outputId": "33765da6-54fa-443e-b4cd-02f03a54d829",
        "colab": {
          "base_uri": "https://localhost:8080/"
        }
      },
      "execution_count": 31,
      "outputs": [
        {
          "output_type": "execute_result",
          "data": {
            "text/plain": [
              "DeviceArray([  0, 100], dtype=uint32)"
            ]
          },
          "metadata": {},
          "execution_count": 31
        }
      ]
    },
    {
      "cell_type": "markdown",
      "source": [
        "**Exercise 22: Create a subkey from `key` and assign it to `subkey`**"
      ],
      "metadata": {
        "id": "VRqf0CKnGfBq"
      }
    },
    {
      "cell_type": "code",
      "source": [
        "key, subkey = jax.random.split(key)\n",
        "subkey"
      ],
      "metadata": {
        "trusted": true,
        "id": "m6MsjudLGfBr",
        "outputId": "627c5479-6042-4fff-c41b-e5e8959d109a",
        "colab": {
          "base_uri": "https://localhost:8080/"
        }
      },
      "execution_count": 32,
      "outputs": [
        {
          "output_type": "execute_result",
          "data": {
            "text/plain": [
              "array([3011861781, 1867493174], dtype=uint32)"
            ]
          },
          "metadata": {},
          "execution_count": 32
        }
      ]
    },
    {
      "cell_type": "markdown",
      "source": [
        "**Exercise 23: Split `key` into seven subkeys `key_1`, `key_2`, `key_3`, `key_4`, `key_5`, `key_6` and `key_7`**"
      ],
      "metadata": {
        "id": "5DSGzAMXGfBr"
      }
    },
    {
      "cell_type": "code",
      "source": [
        "key_1, key_2, key_3, key_4, key_5, key_6, key_7 = jax.random.split(key, 7)\n",
        "key_1"
      ],
      "metadata": {
        "trusted": true,
        "id": "2_QZvb67GfBs",
        "outputId": "39aacbe1-f53a-45bb-d225-59361a5839d7",
        "colab": {
          "base_uri": "https://localhost:8080/"
        }
      },
      "execution_count": 33,
      "outputs": [
        {
          "output_type": "execute_result",
          "data": {
            "text/plain": [
              "array([ 402730500, 1595431526], dtype=uint32)"
            ]
          },
          "metadata": {},
          "execution_count": 33
        }
      ]
    },
    {
      "cell_type": "markdown",
      "source": [
        "**Exercise 24: Create a random permutation of `sample_data` using `key_1` and assign it to `data_permutation`**"
      ],
      "metadata": {
        "id": "tHKq4OeNGfBs"
      }
    },
    {
      "cell_type": "code",
      "source": [
        "data_permutation = jax.random.permutation(key_1, sample_data)\n",
        "data_permutation"
      ],
      "metadata": {
        "trusted": true,
        "id": "yZiZDYk1GfBt",
        "outputId": "545c7b19-93b3-4b6c-9a55-46b91c1170c4",
        "colab": {
          "base_uri": "https://localhost:8080/"
        }
      },
      "execution_count": 34,
      "outputs": [
        {
          "output_type": "execute_result",
          "data": {
            "text/plain": [
              "DeviceArray([20, 14,  1, 10, 24, 15], dtype=int32)"
            ]
          },
          "metadata": {},
          "execution_count": 34
        }
      ]
    },
    {
      "cell_type": "markdown",
      "source": [
        "**Exercise 25: Choose a random element from `sample_data` using `key_2` and assign it to `random_selection`**"
      ],
      "metadata": {
        "id": "akKtZqitGfBt"
      }
    },
    {
      "cell_type": "code",
      "source": [
        "# idx = jax.random.randint(key_2, [1], 0, 9)\n",
        "# random_selection = sample_data[idx]\n",
        "random_selection = jax.random.choice(key_2, sample_data)\n",
        "random_selection"
      ],
      "metadata": {
        "trusted": true,
        "id": "jqAdjUo0GfBt",
        "outputId": "3c234576-f212-4477-8e73-48cf3b408ec5",
        "colab": {
          "base_uri": "https://localhost:8080/"
        }
      },
      "execution_count": 36,
      "outputs": [
        {
          "output_type": "execute_result",
          "data": {
            "text/plain": [
              "DeviceArray(1, dtype=int32)"
            ]
          },
          "metadata": {},
          "execution_count": 36
        }
      ]
    },
    {
      "cell_type": "markdown",
      "source": [
        "**Exercise 26: Sample an integer between 10 and 24 using `key_3` and assign it to `sample_int`**"
      ],
      "metadata": {
        "id": "EFdV-4wYGfBt"
      }
    },
    {
      "cell_type": "code",
      "source": [
        "sample_int = jax.random.randint(key_3, [1], 10, 24)\n",
        "sample_int"
      ],
      "metadata": {
        "trusted": true,
        "id": "RCSFQASuGfBt",
        "outputId": "83c4ff0f-1e15-400d-d23e-fbffa1179907",
        "colab": {
          "base_uri": "https://localhost:8080/"
        }
      },
      "execution_count": 38,
      "outputs": [
        {
          "output_type": "execute_result",
          "data": {
            "text/plain": [
              "DeviceArray([14], dtype=int32)"
            ]
          },
          "metadata": {},
          "execution_count": 38
        }
      ]
    },
    {
      "cell_type": "markdown",
      "source": [
        "**Exercise 27: Sample two values from uniform distribution between 1 and 2 using `key_4` and assign it to `sample_uniform`**"
      ],
      "metadata": {
        "id": "UGyDiSmeGfBt"
      }
    },
    {
      "cell_type": "code",
      "source": [
        "sample_uniform = jax.random.uniform(key_4, [2], jnp.float32, 1, 2)\n",
        "sample_uniform"
      ],
      "metadata": {
        "trusted": true,
        "id": "FUZr9waaGfBu",
        "outputId": "ca5f224f-ed3d-4705-f9ea-cc26135c16ae",
        "colab": {
          "base_uri": "https://localhost:8080/"
        }
      },
      "execution_count": 19,
      "outputs": [
        {
          "output_type": "execute_result",
          "data": {
            "text/plain": [
              "DeviceArray([1.6274643, 1.1133162], dtype=float32)"
            ]
          },
          "metadata": {},
          "execution_count": 19
        }
      ]
    },
    {
      "cell_type": "markdown",
      "source": [
        "**Exercise 28: Sample three values from bernoulli distribution using `key_5` and assign it to `sample_bernoulli`**"
      ],
      "metadata": {
        "id": "6x6PNoTxGfBu"
      }
    },
    {
      "cell_type": "code",
      "source": [
        "sample_bernoulli = jax.random.bernoulli(key_5, shape=[3])\n",
        "sample_bernoulli"
      ],
      "metadata": {
        "trusted": true,
        "id": "JhTkGPZiGfBu",
        "outputId": "7318d26f-c412-430d-d2d2-d652a79767b9",
        "colab": {
          "base_uri": "https://localhost:8080/"
        }
      },
      "execution_count": 21,
      "outputs": [
        {
          "output_type": "execute_result",
          "data": {
            "text/plain": [
              "DeviceArray([False,  True,  True], dtype=bool)"
            ]
          },
          "metadata": {},
          "execution_count": 21
        }
      ]
    },
    {
      "cell_type": "markdown",
      "source": [
        "**Exercise 29: Sample a 2x3 matrix from poisson distribution with λ=100 using `key_6` and assign it to `sample_poisson`**"
      ],
      "metadata": {
        "id": "Wa4uuhVpGfBu"
      }
    },
    {
      "cell_type": "code",
      "source": [
        "sample_poisson = jax.random.poisson(key_6, 100, shape=[2, 3])\n",
        "sample_poisson"
      ],
      "metadata": {
        "trusted": true,
        "id": "5z1NVmvLGfBv",
        "outputId": "dde399aa-796d-44de-e2d5-d4c085840186",
        "colab": {
          "base_uri": "https://localhost:8080/"
        }
      },
      "execution_count": 22,
      "outputs": [
        {
          "output_type": "execute_result",
          "data": {
            "text/plain": [
              "DeviceArray([[ 88,  82, 110],\n",
              "             [ 89,  85,  98]], dtype=int32)"
            ]
          },
          "metadata": {},
          "execution_count": 22
        }
      ]
    },
    {
      "cell_type": "markdown",
      "source": [
        "**Exercise 30: Sample a 2x3x4 array from normal distribution using `key_7` and assign it to `sample_normal`**"
      ],
      "metadata": {
        "id": "NHLD4LoFGfBv"
      }
    },
    {
      "cell_type": "code",
      "source": [
        "sample_normal = jax.random.normal(key_7, [2,3,4])\n",
        "sample_normal"
      ],
      "metadata": {
        "trusted": true,
        "id": "WTwEXiYfGfBv",
        "outputId": "453832d1-bb40-4590-92ba-347976c4fd5c",
        "colab": {
          "base_uri": "https://localhost:8080/"
        }
      },
      "execution_count": 23,
      "outputs": [
        {
          "output_type": "execute_result",
          "data": {
            "text/plain": [
              "DeviceArray([[[ 0.25418097,  1.1962761 ,  1.3234267 ,  0.79710627],\n",
              "              [-1.8524727 , -0.28634226,  0.22515137, -0.6195278 ],\n",
              "              [ 2.401375  ,  0.07618259,  1.2277741 , -0.7562503 ]],\n",
              "\n",
              "             [[-0.45340508,  1.1029626 , -0.39860722, -1.1235173 ],\n",
              "              [-1.5689539 ,  0.46173108, -0.56071526, -1.750862  ],\n",
              "              [ 0.50200605, -1.497255  , -1.6995516 ,  0.55552477]]],            dtype=float32)"
            ]
          },
          "metadata": {},
          "execution_count": 23
        }
      ]
    },
    {
      "cell_type": "markdown",
      "source": [
        "<center>\n",
        "    This completes Set 3: Pseudorandom Numbers (Exercises 21-30) of <b>JaxTon</b>: <i>💯 JAX exercises</i>\n",
        "    <br>\n",
        "    You can find all the exercises and solutions on <a href=\"https://github.com/vopani/jaxton#exercises-\">GitHub</a>\n",
        "</center>"
      ],
      "metadata": {
        "id": "jAxA6SZsGfBv"
      }
    }
  ]
}