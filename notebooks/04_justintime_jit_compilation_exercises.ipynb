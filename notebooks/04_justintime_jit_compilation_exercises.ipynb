{
  "metadata": {
    "kernelspec": {
      "language": "python",
      "display_name": "Python 3",
      "name": "python3"
    },
    "language_info": {
      "pygments_lexer": "ipython3",
      "nbconvert_exporter": "python",
      "version": "3.6.4",
      "file_extension": ".py",
      "codemirror_mode": {
        "name": "ipython",
        "version": 3
      },
      "name": "python",
      "mimetype": "text/x-python"
    },
    "colab": {
      "name": "04_justintime_jit_compilation_exercises.ipynb",
      "provenance": []
    }
  },
  "nbformat_minor": 0,
  "nbformat": 4,
  "cells": [
    {
      "cell_type": "markdown",
      "source": [
        "<center>\n",
        "    <h1>JaxTon</h1>\n",
        "    <i>💯 JAX exercises</i>\n",
        "    <br>\n",
        "    <br>\n",
        "    <a href='https://github.com/vopani/jaxton/blob/master/LICENSE'>\n",
        "        <img src='https://img.shields.io/badge/license-Apache%202.0-blue.svg?logo=apache'>\n",
        "    </a>\n",
        "    <a href='https://github.com/vopani/jaxton'>\n",
        "        <img src='https://img.shields.io/github/stars/vopani/jaxton?color=yellowgreen&logo=github'>\n",
        "    </a>\n",
        "    <a href='https://twitter.com/vopani'>\n",
        "        <img src='https://img.shields.io/twitter/follow/vopani'>\n",
        "    </a>\n",
        "</center>"
      ],
      "metadata": {
        "id": "5eyCLHQ1MoFP"
      }
    },
    {
      "cell_type": "markdown",
      "source": [
        "<center>\n",
        "    This is Set 4: Just-In-Time (JIT) Compilation (Exercises 31-40) of <b>JaxTon</b>: <i>💯 JAX exercises</i>\n",
        "    <br>\n",
        "    You can find all the exercises and solutions on <a href=\"https://github.com/vopani/jaxton#exercises-\">GitHub</a>\n",
        "</center>"
      ],
      "metadata": {
        "id": "NcFKGx-8MoFS"
      }
    },
    {
      "cell_type": "markdown",
      "source": [
        "**Prerequisites**\n",
        "\n",
        "* The configuration of jax should be set as shown in the code snippet below in order to use TPUs.\n",
        "* A sample function `cube` will be used for the exercises."
      ],
      "metadata": {
        "id": "p9mZ8EgDMoFT"
      }
    },
    {
      "cell_type": "code",
      "source": [
        "!python3 -m pip install jax"
      ],
      "metadata": {
        "_kg_hide-input": true,
        "_kg_hide-output": true,
        "execution": {
          "iopub.status.busy": "2022-02-10T05:25:42.285455Z",
          "iopub.execute_input": "2022-02-10T05:25:42.285820Z",
          "iopub.status.idle": "2022-02-10T05:25:51.615891Z",
          "shell.execute_reply.started": "2022-02-10T05:25:42.285734Z",
          "shell.execute_reply": "2022-02-10T05:25:51.614773Z"
        },
        "trusted": true,
        "id": "KgijMDK-MoFT",
        "outputId": "6e96ecca-bbc8-42b9-bc48-ccafdc3ae9d2",
        "colab": {
          "base_uri": "https://localhost:8080/"
        }
      },
      "execution_count": 1,
      "outputs": [
        {
          "output_type": "stream",
          "name": "stdout",
          "text": [
            "Requirement already satisfied: jax in /usr/local/lib/python3.7/dist-packages (0.2.25)\n",
            "Requirement already satisfied: scipy>=1.2.1 in /usr/local/lib/python3.7/dist-packages (from jax) (1.4.1)\n",
            "Requirement already satisfied: absl-py in /usr/local/lib/python3.7/dist-packages (from jax) (1.0.0)\n",
            "Requirement already satisfied: typing-extensions in /usr/local/lib/python3.7/dist-packages (from jax) (3.10.0.2)\n",
            "Requirement already satisfied: opt-einsum in /usr/local/lib/python3.7/dist-packages (from jax) (3.3.0)\n",
            "Requirement already satisfied: numpy>=1.18 in /usr/local/lib/python3.7/dist-packages (from jax) (1.19.5)\n",
            "Requirement already satisfied: six in /usr/local/lib/python3.7/dist-packages (from absl-py->jax) (1.15.0)\n"
          ]
        }
      ]
    },
    {
      "cell_type": "code",
      "source": [
        "import jax\n",
        "import jax.numpy as jnp\n",
        "import os\n",
        "import requests\n",
        "\n",
        "try:\n",
        "    url = 'http:' + os.environ['TPU_NAME'].split(':')[1] + ':8475/requestversion/tpu_driver_nightly'\n",
        "    resp = requests.post(url)\n",
        "    jax.config.FLAGS.jax_xla_backend = 'tpu_driver'\n",
        "    jax.config.FLAGS.jax_backend_target = os.environ['TPU_NAME']\n",
        "except:\n",
        "    pass\n",
        "\n",
        "jax.devices()"
      ],
      "metadata": {
        "_kg_hide-input": true,
        "execution": {
          "iopub.status.busy": "2022-02-10T05:25:51.617977Z",
          "iopub.execute_input": "2022-02-10T05:25:51.618660Z",
          "iopub.status.idle": "2022-02-10T05:26:30.210291Z",
          "shell.execute_reply.started": "2022-02-10T05:25:51.618620Z",
          "shell.execute_reply": "2022-02-10T05:26:30.209198Z"
        },
        "trusted": true,
        "id": "yrB3qMhRMoFU",
        "outputId": "ab159695-f687-4ca1-870e-3a23613f388d",
        "colab": {
          "base_uri": "https://localhost:8080/"
        }
      },
      "execution_count": 2,
      "outputs": [
        {
          "output_type": "stream",
          "name": "stderr",
          "text": [
            "WARNING:absl:No GPU/TPU found, falling back to CPU. (Set TF_CPP_MIN_LOG_LEVEL=0 and rerun for more info.)\n"
          ]
        },
        {
          "output_type": "execute_result",
          "data": {
            "text/plain": [
              "[<jaxlib.xla_extension.Device at 0x7fd4d0153970>]"
            ]
          },
          "metadata": {},
          "execution_count": 2
        }
      ]
    },
    {
      "cell_type": "code",
      "source": [
        "def cube(x):\n",
        "    return x**3\n",
        "\n",
        "cube(2.1)"
      ],
      "metadata": {
        "execution": {
          "iopub.status.busy": "2022-02-10T05:26:30.212059Z",
          "iopub.execute_input": "2022-02-10T05:26:30.212385Z",
          "iopub.status.idle": "2022-02-10T05:26:30.220977Z",
          "shell.execute_reply.started": "2022-02-10T05:26:30.212342Z",
          "shell.execute_reply": "2022-02-10T05:26:30.219774Z"
        },
        "trusted": true,
        "id": "QAD02LXUMoFU",
        "outputId": "460ce261-9054-4412-dd26-02eb66de9a86",
        "colab": {
          "base_uri": "https://localhost:8080/"
        }
      },
      "execution_count": 3,
      "outputs": [
        {
          "output_type": "execute_result",
          "data": {
            "text/plain": [
              "9.261000000000001"
            ]
          },
          "metadata": {},
          "execution_count": 3
        }
      ]
    },
    {
      "cell_type": "markdown",
      "source": [
        "**Exercise 31: JIT-compile the `cube` function and assign it to `cube_jit`**"
      ],
      "metadata": {
        "id": "QqUvQcr0MoFV"
      }
    },
    {
      "cell_type": "code",
      "source": [
        "cube_jit = jax.jit(cube)\n",
        "cube_jit"
      ],
      "metadata": {
        "execution": {
          "iopub.status.busy": "2022-02-10T05:26:30.223307Z",
          "iopub.execute_input": "2022-02-10T05:26:30.223901Z",
          "iopub.status.idle": "2022-02-10T05:26:30.236179Z",
          "shell.execute_reply.started": "2022-02-10T05:26:30.223839Z",
          "shell.execute_reply": "2022-02-10T05:26:30.235127Z"
        },
        "trusted": true,
        "id": "4H1eChZnMoFV",
        "outputId": "a7435131-f38e-4d31-8709-605b99a9b9fd",
        "colab": {
          "base_uri": "https://localhost:8080/"
        }
      },
      "execution_count": 4,
      "outputs": [
        {
          "output_type": "execute_result",
          "data": {
            "text/plain": [
              "<CompiledFunction at 0x7fd4bc7c1320>"
            ]
          },
          "metadata": {},
          "execution_count": 4
        }
      ]
    },
    {
      "cell_type": "markdown",
      "source": [
        "**Exercise 32: Display execution time of `cube_jit` for first run (with overhead) with input=10.24**"
      ],
      "metadata": {
        "id": "s-m5qs2wMoFW"
      }
    },
    {
      "cell_type": "code",
      "source": [
        "%%time \n",
        "cube_jit(10.24)"
      ],
      "metadata": {
        "execution": {
          "iopub.status.busy": "2022-02-10T05:26:30.237821Z",
          "iopub.execute_input": "2022-02-10T05:26:30.238623Z",
          "iopub.status.idle": "2022-02-10T05:26:30.620374Z",
          "shell.execute_reply.started": "2022-02-10T05:26:30.238581Z",
          "shell.execute_reply": "2022-02-10T05:26:30.619339Z"
        },
        "trusted": true,
        "id": "RMjFTXr1MoFW",
        "outputId": "4b674160-3d68-4af3-afd4-ee9892f75b96",
        "colab": {
          "base_uri": "https://localhost:8080/"
        }
      },
      "execution_count": 7,
      "outputs": [
        {
          "output_type": "stream",
          "name": "stdout",
          "text": [
            "CPU times: user 20.1 ms, sys: 14.8 ms, total: 34.9 ms\n",
            "Wall time: 240 ms\n"
          ]
        },
        {
          "output_type": "execute_result",
          "data": {
            "text/plain": [
              "DeviceArray(1073.7418, dtype=float32, weak_type=True)"
            ]
          },
          "metadata": {},
          "execution_count": 7
        }
      ]
    },
    {
      "cell_type": "markdown",
      "source": [
        "**Exercise 33: Display execution time of `cube_jit` for second run (without overhead) with input=10.24**"
      ],
      "metadata": {
        "id": "DD-i0xNLMoFW"
      }
    },
    {
      "cell_type": "code",
      "source": [
        "%%time\n",
        "cube_jit(10.24)"
      ],
      "metadata": {
        "execution": {
          "iopub.status.busy": "2022-02-10T05:26:30.621574Z",
          "iopub.execute_input": "2022-02-10T05:26:30.622140Z",
          "iopub.status.idle": "2022-02-10T05:26:30.668836Z",
          "shell.execute_reply.started": "2022-02-10T05:26:30.622095Z",
          "shell.execute_reply": "2022-02-10T05:26:30.667929Z"
        },
        "trusted": true,
        "id": "IEPnESWyMoFX",
        "outputId": "b3d521e3-cd62-49ae-dfc0-8a5f8c5733c8",
        "colab": {
          "base_uri": "https://localhost:8080/"
        }
      },
      "execution_count": 8,
      "outputs": [
        {
          "output_type": "stream",
          "name": "stdout",
          "text": [
            "CPU times: user 534 µs, sys: 0 ns, total: 534 µs\n",
            "Wall time: 444 µs\n"
          ]
        },
        {
          "output_type": "execute_result",
          "data": {
            "text/plain": [
              "DeviceArray(1073.7418, dtype=float32, weak_type=True)"
            ]
          },
          "metadata": {},
          "execution_count": 8
        }
      ]
    },
    {
      "cell_type": "markdown",
      "source": [
        "**Exercise 34: Run `cube_jit` with input=10.24 and assign it to `cube_value`**"
      ],
      "metadata": {
        "id": "hzVoAQhbMoFX"
      }
    },
    {
      "cell_type": "code",
      "source": [
        "cube_value = cube_jit(10.24)\n",
        "cube_value"
      ],
      "metadata": {
        "execution": {
          "iopub.status.busy": "2022-02-10T05:26:30.670322Z",
          "iopub.execute_input": "2022-02-10T05:26:30.671132Z",
          "iopub.status.idle": "2022-02-10T05:26:30.720464Z",
          "shell.execute_reply.started": "2022-02-10T05:26:30.671088Z",
          "shell.execute_reply": "2022-02-10T05:26:30.719396Z"
        },
        "trusted": true,
        "id": "NX2QfI29MoFX",
        "outputId": "e2794633-a1ee-4aa7-dddb-40082fc09076",
        "colab": {
          "base_uri": "https://localhost:8080/"
        }
      },
      "execution_count": 9,
      "outputs": [
        {
          "output_type": "execute_result",
          "data": {
            "text/plain": [
              "DeviceArray(1073.7418, dtype=float32, weak_type=True)"
            ]
          },
          "metadata": {},
          "execution_count": 9
        }
      ]
    },
    {
      "cell_type": "markdown",
      "source": [
        "**Exercise 35: Run `cube_jit` with jit disabled and input=10.24 and assign it to `cube_value_nojit`**"
      ],
      "metadata": {
        "id": "Hxktk-e7MoFX"
      }
    },
    {
      "cell_type": "code",
      "source": [
        "with jax.disable_jit():\n",
        "  cube_value_nojit = cube_jit(10.24)\n",
        "\n",
        "cube_value_nojit"
      ],
      "metadata": {
        "execution": {
          "iopub.status.busy": "2022-02-10T05:26:30.721765Z",
          "iopub.execute_input": "2022-02-10T05:26:30.722177Z",
          "iopub.status.idle": "2022-02-10T05:26:30.730658Z",
          "shell.execute_reply.started": "2022-02-10T05:26:30.722137Z",
          "shell.execute_reply": "2022-02-10T05:26:30.729319Z"
        },
        "trusted": true,
        "id": "7H-f3akOMoFY",
        "outputId": "e4a5d522-663e-4b3e-cd61-c843314d8010",
        "colab": {
          "base_uri": "https://localhost:8080/"
        }
      },
      "execution_count": 10,
      "outputs": [
        {
          "output_type": "execute_result",
          "data": {
            "text/plain": [
              "1073.7418240000002"
            ]
          },
          "metadata": {},
          "execution_count": 10
        }
      ]
    },
    {
      "cell_type": "markdown",
      "source": [
        "**Exercise 36: Evaluate the shape of `cube_jit` with input=10.24 and assign it to `cube_shape`**"
      ],
      "metadata": {
        "id": "vCGMp4DkMoFY"
      }
    },
    {
      "cell_type": "code",
      "source": [
        "cube_shape = jax.eval_shape(cube_jit, 10.24)\n",
        "cube_shape"
      ],
      "metadata": {
        "execution": {
          "iopub.status.busy": "2022-02-10T05:26:30.732309Z",
          "iopub.execute_input": "2022-02-10T05:26:30.732780Z",
          "iopub.status.idle": "2022-02-10T05:26:30.744765Z",
          "shell.execute_reply.started": "2022-02-10T05:26:30.732722Z",
          "shell.execute_reply": "2022-02-10T05:26:30.743748Z"
        },
        "trusted": true,
        "id": "6U9ENbnmMoFY",
        "outputId": "6b718c81-e139-4e4f-aab8-cb973796222a",
        "colab": {
          "base_uri": "https://localhost:8080/"
        }
      },
      "execution_count": 13,
      "outputs": [
        {
          "output_type": "execute_result",
          "data": {
            "text/plain": [
              "ShapeDtypeStruct(shape=(), dtype=float32)"
            ]
          },
          "metadata": {},
          "execution_count": 13
        }
      ]
    },
    {
      "cell_type": "markdown",
      "source": [
        "**Exercise 37: Create the jaxpr of `cube_jit` with input=10.24 and assign it to `cube_jaxpr`**"
      ],
      "metadata": {
        "id": "p0HzEAkFMoFY"
      }
    },
    {
      "cell_type": "code",
      "source": [
        "cube_jaxpr = jax.make_jaxpr(cube_jit)(10.24)\n",
        "cube_jaxpr"
      ],
      "metadata": {
        "execution": {
          "iopub.status.busy": "2022-02-10T05:26:30.747577Z",
          "iopub.execute_input": "2022-02-10T05:26:30.750998Z",
          "iopub.status.idle": "2022-02-10T05:26:30.760923Z",
          "shell.execute_reply.started": "2022-02-10T05:26:30.750951Z",
          "shell.execute_reply": "2022-02-10T05:26:30.759900Z"
        },
        "trusted": true,
        "id": "J5kHmiQuMoFZ",
        "outputId": "413dfc03-c537-43ee-91f9-fc0f198e9375",
        "colab": {
          "base_uri": "https://localhost:8080/"
        }
      },
      "execution_count": 15,
      "outputs": [
        {
          "output_type": "execute_result",
          "data": {
            "text/plain": [
              "{ lambda ; a:f32[]. let\n",
              "    b:f32[] = xla_call[\n",
              "      backend=None\n",
              "      call_jaxpr={ lambda ; c:f32[]. let d:f32[] = integer_pow[y=3] c in (d,) }\n",
              "      device=None\n",
              "      donated_invars=(False,)\n",
              "      inline=False\n",
              "      name=cube\n",
              "    ] a\n",
              "  in (b,) }"
            ]
          },
          "metadata": {},
          "execution_count": 15
        }
      ]
    },
    {
      "cell_type": "markdown",
      "source": [
        "**Exercise 38: Assign the XLA computation of `cube_jit` with input=10.24 to `cube_xla` and print it's XLA HLO text**"
      ],
      "metadata": {
        "id": "BHWh--ohMoFZ"
      }
    },
    {
      "cell_type": "code",
      "source": [
        "cube_xla = jax.xla_computation(cube_jit)(10.24)\n",
        "print(cube_xla.as_hlo_text())"
      ],
      "metadata": {
        "execution": {
          "iopub.status.busy": "2022-02-10T05:26:30.762254Z",
          "iopub.execute_input": "2022-02-10T05:26:30.763170Z",
          "iopub.status.idle": "2022-02-10T05:26:30.793578Z",
          "shell.execute_reply.started": "2022-02-10T05:26:30.763130Z",
          "shell.execute_reply": "2022-02-10T05:26:30.792520Z"
        },
        "trusted": true,
        "id": "5phaioF-MoFZ",
        "outputId": "7527f5ba-1709-4567-99a5-a83ed41ecdca",
        "colab": {
          "base_uri": "https://localhost:8080/"
        }
      },
      "execution_count": 17,
      "outputs": [
        {
          "output_type": "stream",
          "name": "stdout",
          "text": [
            "HloModule xla_computation_cube__1.12\n",
            "\n",
            "jit_cube__2.3 {\n",
            "  constant.5 = pred[] constant(false)\n",
            "  parameter.4 = f32[] parameter(0)\n",
            "  multiply.6 = f32[] multiply(parameter.4, parameter.4)\n",
            "  multiply.7 = f32[] multiply(parameter.4, multiply.6)\n",
            "  ROOT tuple.8 = (f32[]) tuple(multiply.7)\n",
            "}\n",
            "\n",
            "ENTRY xla_computation_cube__1.12 {\n",
            "  constant.2 = pred[] constant(false)\n",
            "  parameter.1 = f32[] parameter(0)\n",
            "  call.9 = (f32[]) call(parameter.1), to_apply=jit_cube__2.3\n",
            "  get-tuple-element.10 = f32[] get-tuple-element(call.9), index=0\n",
            "  ROOT tuple.11 = (f32[]) tuple(get-tuple-element.10)\n",
            "}\n",
            "\n",
            "\n"
          ]
        }
      ]
    },
    {
      "cell_type": "markdown",
      "source": [
        "**Exercise 39: Use the name `jaxton_cube_fn` internally for the `cube_jit` function and assign the named function to `cube_named_jit`**"
      ],
      "metadata": {
        "id": "EBIV4bsaMoFZ"
      }
    },
    {
      "cell_type": "code",
      "source": [
        "cube_named_jit = jax.named_call(cube_jit, name='jaxton_cube_fn')\n",
        "cube_named_jit"
      ],
      "metadata": {
        "execution": {
          "iopub.status.busy": "2022-02-10T05:26:30.794947Z",
          "iopub.execute_input": "2022-02-10T05:26:30.795363Z",
          "iopub.status.idle": "2022-02-10T05:26:30.806783Z",
          "shell.execute_reply.started": "2022-02-10T05:26:30.795323Z",
          "shell.execute_reply": "2022-02-10T05:26:30.805669Z"
        },
        "trusted": true,
        "id": "F8DW-BznMoFZ",
        "outputId": "4c89236b-0137-4b3a-e7bd-dde18efb5ca7",
        "colab": {
          "base_uri": "https://localhost:8080/"
        }
      },
      "execution_count": 18,
      "outputs": [
        {
          "output_type": "execute_result",
          "data": {
            "text/plain": [
              "<function __main__.cube>"
            ]
          },
          "metadata": {},
          "execution_count": 18
        }
      ]
    },
    {
      "cell_type": "markdown",
      "source": [
        "**Exercise 40: Assign the XLA computation of `cube_named_jit` with input=10.24 to `cube_named_xla` and print it's XLA HLO text**"
      ],
      "metadata": {
        "id": "pH-HmUwEMoFZ"
      }
    },
    {
      "cell_type": "code",
      "source": [
        "cube_named_xla = jax.xla_computation(cube_named_jit)(10.24)\n",
        "print(cube_named_xla.as_hlo_text())"
      ],
      "metadata": {
        "execution": {
          "iopub.status.busy": "2022-02-10T05:26:30.808232Z",
          "iopub.execute_input": "2022-02-10T05:26:30.809081Z",
          "iopub.status.idle": "2022-02-10T05:26:30.824095Z",
          "shell.execute_reply.started": "2022-02-10T05:26:30.809039Z",
          "shell.execute_reply": "2022-02-10T05:26:30.823076Z"
        },
        "trusted": true,
        "id": "cMiG5HjnMoFa",
        "outputId": "d3e1756e-78d6-4931-f7dc-c14a964243e2",
        "colab": {
          "base_uri": "https://localhost:8080/"
        }
      },
      "execution_count": 19,
      "outputs": [
        {
          "output_type": "stream",
          "name": "stdout",
          "text": [
            "HloModule xla_computation_cube__2.18\n",
            "\n",
            "jit_cube__3.3 {\n",
            "  constant.5 = pred[] constant(false)\n",
            "  parameter.4 = f32[] parameter(0)\n",
            "  multiply.6 = f32[] multiply(parameter.4, parameter.4)\n",
            "  multiply.7 = f32[] multiply(parameter.4, multiply.6)\n",
            "  ROOT tuple.8 = (f32[]) tuple(multiply.7)\n",
            "}\n",
            "\n",
            "jaxton_cube_fn.9 {\n",
            "  constant.11 = pred[] constant(false)\n",
            "  parameter.10 = f32[] parameter(0)\n",
            "  call.12 = (f32[]) call(parameter.10), to_apply=jit_cube__3.3\n",
            "  get-tuple-element.13 = f32[] get-tuple-element(call.12), index=0\n",
            "  ROOT tuple.14 = (f32[]) tuple(get-tuple-element.13)\n",
            "}\n",
            "\n",
            "ENTRY xla_computation_cube__2.18 {\n",
            "  constant.2 = pred[] constant(false)\n",
            "  parameter.1 = f32[] parameter(0)\n",
            "  call.15 = (f32[]) call(parameter.1), to_apply=jaxton_cube_fn.9\n",
            "  get-tuple-element.16 = f32[] get-tuple-element(call.15), index=0\n",
            "  ROOT tuple.17 = (f32[]) tuple(get-tuple-element.16)\n",
            "}\n",
            "\n",
            "\n"
          ]
        }
      ]
    },
    {
      "cell_type": "markdown",
      "source": [
        "<center>\n",
        "    This completes Set 4: Just-In-Time (JIT) Compilation (Exercises 31-40) of <b>JaxTon</b>: <i>💯 JAX exercises</i>\n",
        "    <br>\n",
        "    You can find all the exercises and solutions on <a href=\"https://github.com/vopani/jaxton#exercises-\">GitHub</a>\n",
        "</center>"
      ],
      "metadata": {
        "id": "xpK5klk8MoFa"
      }
    }
  ]
}