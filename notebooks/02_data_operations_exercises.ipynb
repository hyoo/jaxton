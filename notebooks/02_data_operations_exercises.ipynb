{
  "metadata": {
    "kernelspec": {
      "language": "python",
      "display_name": "Python 3",
      "name": "python3"
    },
    "language_info": {
      "name": "python",
      "version": "3.7.12",
      "mimetype": "text/x-python",
      "codemirror_mode": {
        "name": "ipython",
        "version": 3
      },
      "pygments_lexer": "ipython3",
      "nbconvert_exporter": "python",
      "file_extension": ".py"
    },
    "colab": {
      "name": "02_data_operations_exercises.ipynb",
      "provenance": []
    },
    "accelerator": "TPU"
  },
  "nbformat_minor": 0,
  "nbformat": 4,
  "cells": [
    {
      "cell_type": "markdown",
      "source": [
        "<center>\n",
        "    <h1>JaxTon</h1>\n",
        "    <i>💯 JAX exercises</i>\n",
        "    <br>\n",
        "    <br>\n",
        "    <a href='https://github.com/vopani/jaxton/blob/master/LICENSE'>\n",
        "        <img src='https://img.shields.io/badge/license-Apache%202.0-blue.svg?logo=apache'>\n",
        "    </a>\n",
        "    <a href='https://github.com/vopani/jaxton'>\n",
        "        <img src='https://img.shields.io/github/stars/vopani/jaxton?color=yellowgreen&logo=github'>\n",
        "    </a>\n",
        "    <a href='https://twitter.com/vopani'>\n",
        "        <img src='https://img.shields.io/twitter/follow/vopani'>\n",
        "    </a>\n",
        "</center>"
      ],
      "metadata": {
        "papermill": {
          "duration": 0.015838,
          "end_time": "2022-02-04T05:32:28.988637",
          "exception": false,
          "start_time": "2022-02-04T05:32:28.972799",
          "status": "completed"
        },
        "tags": [],
        "id": "eOLBjGdwvRZb"
      }
    },
    {
      "cell_type": "markdown",
      "source": [
        "<center>\n",
        "    This is Set 2: Data Operations (Exercises 11-20) of <b>JaxTon</b>: <i>💯 JAX exercises</i>\n",
        "    <br>\n",
        "    You can find all the exercises and solutions on <a href=\"https://github.com/vopani/jaxton#exercises-\">GitHub</a>\n",
        "</center>"
      ],
      "metadata": {
        "papermill": {
          "duration": 0.012769,
          "end_time": "2022-02-04T05:32:29.015298",
          "exception": false,
          "start_time": "2022-02-04T05:32:29.002529",
          "status": "completed"
        },
        "tags": [],
        "id": "-wS_TdNvvRZe"
      }
    },
    {
      "cell_type": "markdown",
      "source": [
        "**Prerequisites**\n",
        "\n",
        "* The configuration of jax should be set as shown in the code snippet below in order to use TPUs."
      ],
      "metadata": {
        "papermill": {
          "duration": 0.012743,
          "end_time": "2022-02-04T05:32:29.041006",
          "exception": false,
          "start_time": "2022-02-04T05:32:29.028263",
          "status": "completed"
        },
        "tags": [],
        "id": "kTSUmynZvRZe"
      }
    },
    {
      "cell_type": "code",
      "source": [
        "!python3 -m pip install jax"
      ],
      "metadata": {
        "_kg_hide-input": true,
        "_kg_hide-output": true,
        "papermill": {
          "duration": 8.902788,
          "end_time": "2022-02-04T05:32:37.956623",
          "exception": false,
          "start_time": "2022-02-04T05:32:29.053835",
          "status": "completed"
        },
        "tags": [],
        "execution": {
          "iopub.status.busy": "2022-02-07T06:16:08.168786Z",
          "iopub.execute_input": "2022-02-07T06:16:08.169153Z",
          "iopub.status.idle": "2022-02-07T06:16:17.854475Z",
          "shell.execute_reply.started": "2022-02-07T06:16:08.169060Z",
          "shell.execute_reply": "2022-02-07T06:16:17.853547Z"
        },
        "trusted": true,
        "id": "za89FyHnvRZf",
        "outputId": "80dda7f8-ef0c-495e-809e-c5f2ed0a2e54",
        "colab": {
          "base_uri": "https://localhost:8080/"
        }
      },
      "execution_count": 1,
      "outputs": [
        {
          "output_type": "stream",
          "name": "stdout",
          "text": [
            "Requirement already satisfied: jax in /usr/local/lib/python3.7/dist-packages (0.2.25)\n",
            "Requirement already satisfied: absl-py in /usr/local/lib/python3.7/dist-packages (from jax) (1.0.0)\n",
            "Requirement already satisfied: scipy>=1.2.1 in /usr/local/lib/python3.7/dist-packages (from jax) (1.4.1)\n",
            "Requirement already satisfied: numpy>=1.18 in /usr/local/lib/python3.7/dist-packages (from jax) (1.19.5)\n",
            "Requirement already satisfied: typing-extensions in /usr/local/lib/python3.7/dist-packages (from jax) (3.10.0.2)\n",
            "Requirement already satisfied: opt-einsum in /usr/local/lib/python3.7/dist-packages (from jax) (3.3.0)\n",
            "Requirement already satisfied: six in /usr/local/lib/python3.7/dist-packages (from absl-py->jax) (1.15.0)\n"
          ]
        }
      ]
    },
    {
      "cell_type": "code",
      "source": [
        "## import packages\n",
        "import jax\n",
        "import jax.numpy as jnp\n",
        "import os\n",
        "import requests\n",
        "\n",
        "## setup JAX to use TPUs if available\n",
        "try:\n",
        "    url = 'http:' + os.environ['TPU_NAME'].split(':')[1] + ':8475/requestversion/tpu_driver_nightly'\n",
        "    resp = requests.post(url)\n",
        "    jax.config.FLAGS.jax_xla_backend = 'tpu_driver'\n",
        "    jax.config.FLAGS.jax_backend_target = os.environ['TPU_NAME']\n",
        "except:\n",
        "    pass\n",
        "\n",
        "jax.devices()"
      ],
      "metadata": {
        "_kg_hide-input": false,
        "papermill": {
          "duration": 1.874154,
          "end_time": "2022-02-04T05:32:39.851424",
          "exception": false,
          "start_time": "2022-02-04T05:32:37.97727",
          "status": "completed"
        },
        "tags": [],
        "execution": {
          "iopub.status.busy": "2022-02-07T06:16:17.858137Z",
          "iopub.execute_input": "2022-02-07T06:16:17.858441Z",
          "iopub.status.idle": "2022-02-07T06:16:19.768539Z",
          "shell.execute_reply.started": "2022-02-07T06:16:17.858408Z",
          "shell.execute_reply": "2022-02-07T06:16:19.767762Z"
        },
        "trusted": true,
        "id": "jqfZD79zvRZg",
        "outputId": "fd348737-a750-4e00-bfa9-7afc59c6fc6c",
        "colab": {
          "base_uri": "https://localhost:8080/"
        }
      },
      "execution_count": 2,
      "outputs": [
        {
          "output_type": "execute_result",
          "data": {
            "text/plain": [
              "[TpuDevice(id=0, process_index=0, coords=(0,0,0), core_on_chip=0),\n",
              " TpuDevice(id=1, process_index=0, coords=(0,0,0), core_on_chip=1),\n",
              " TpuDevice(id=2, process_index=0, coords=(1,0,0), core_on_chip=0),\n",
              " TpuDevice(id=3, process_index=0, coords=(1,0,0), core_on_chip=1),\n",
              " TpuDevice(id=4, process_index=0, coords=(0,1,0), core_on_chip=0),\n",
              " TpuDevice(id=5, process_index=0, coords=(0,1,0), core_on_chip=1),\n",
              " TpuDevice(id=6, process_index=0, coords=(1,1,0), core_on_chip=0),\n",
              " TpuDevice(id=7, process_index=0, coords=(1,1,0), core_on_chip=1)]"
            ]
          },
          "metadata": {},
          "execution_count": 2
        }
      ]
    },
    {
      "cell_type": "markdown",
      "source": [
        "**Exercise 11: Create a matrix with values [[10, 1, 24], [20, 15, 14]] and assign it to `data`**"
      ],
      "metadata": {
        "papermill": {
          "duration": 0.013624,
          "end_time": "2022-02-04T05:32:39.878818",
          "exception": false,
          "start_time": "2022-02-04T05:32:39.865194",
          "status": "completed"
        },
        "tags": [],
        "id": "mYkTf-MtvRZg"
      }
    },
    {
      "cell_type": "code",
      "source": [
        "data = jnp.array([[10, 1, 24], [20, 15, 14]])\n",
        "data"
      ],
      "metadata": {
        "id": "Pxz75U95vcGY",
        "outputId": "634ecfb4-d3aa-4d4d-d364-4017c4bfd9ad",
        "colab": {
          "base_uri": "https://localhost:8080/"
        }
      },
      "execution_count": 49,
      "outputs": [
        {
          "output_type": "execute_result",
          "data": {
            "text/plain": [
              "DeviceArray([[10,  1, 24],\n",
              "             [20, 15, 14]], dtype=int32)"
            ]
          },
          "metadata": {},
          "execution_count": 49
        }
      ]
    },
    {
      "cell_type": "markdown",
      "source": [
        "**Exercise 12: Assign the transpose of `data` to `dataT`**"
      ],
      "metadata": {
        "papermill": {
          "duration": 0.013743,
          "end_time": "2022-02-04T05:32:39.951264",
          "exception": false,
          "start_time": "2022-02-04T05:32:39.937521",
          "status": "completed"
        },
        "tags": [],
        "id": "-yKrqfZjvRZh"
      }
    },
    {
      "cell_type": "code",
      "source": [
        "dataT = data.transpose()\n",
        "dataT"
      ],
      "metadata": {
        "papermill": {
          "duration": 0.25684,
          "end_time": "2022-02-04T05:32:40.222213",
          "exception": false,
          "start_time": "2022-02-04T05:32:39.965373",
          "status": "completed"
        },
        "tags": [],
        "trusted": true,
        "id": "YQr_jochvRZi",
        "outputId": "9b908a9b-8039-4e0c-8c89-dafbfe9d6890",
        "colab": {
          "base_uri": "https://localhost:8080/"
        }
      },
      "execution_count": 50,
      "outputs": [
        {
          "output_type": "execute_result",
          "data": {
            "text/plain": [
              "DeviceArray([[10, 20],\n",
              "             [ 1, 15],\n",
              "             [24, 14]], dtype=int32)"
            ]
          },
          "metadata": {},
          "execution_count": 50
        }
      ]
    },
    {
      "cell_type": "markdown",
      "source": [
        "**Exercise 13: Assign the element of `data` at index [0, 2] to `value`**"
      ],
      "metadata": {
        "papermill": {
          "duration": 0.014461,
          "end_time": "2022-02-04T05:32:40.25141",
          "exception": false,
          "start_time": "2022-02-04T05:32:40.236949",
          "status": "completed"
        },
        "tags": [],
        "id": "naWPr-utvRZi"
      }
    },
    {
      "cell_type": "code",
      "source": [
        "value = data[0, 2]\n",
        "value"
      ],
      "metadata": {
        "papermill": {
          "duration": 0.099289,
          "end_time": "2022-02-04T05:32:40.365523",
          "exception": false,
          "start_time": "2022-02-04T05:32:40.266234",
          "status": "completed"
        },
        "tags": [],
        "trusted": true,
        "id": "aCQ8jwU9vRZi",
        "outputId": "f0e957d9-c2a1-4bd1-aebf-8fb1a4381217",
        "colab": {
          "base_uri": "https://localhost:8080/"
        }
      },
      "execution_count": 51,
      "outputs": [
        {
          "output_type": "execute_result",
          "data": {
            "text/plain": [
              "DeviceArray(24, dtype=int32)"
            ]
          },
          "metadata": {},
          "execution_count": 51
        }
      ]
    },
    {
      "cell_type": "markdown",
      "source": [
        "**Exercise 14: Update the value of `data` at index [1, 1] to `100`**"
      ],
      "metadata": {
        "papermill": {
          "duration": 0.014495,
          "end_time": "2022-02-04T05:32:40.395481",
          "exception": false,
          "start_time": "2022-02-04T05:32:40.380986",
          "status": "completed"
        },
        "tags": [],
        "id": "f1x13cmyvRZj"
      }
    },
    {
      "cell_type": "code",
      "source": [
        "data.at[1, 1].set(100)"
      ],
      "metadata": {
        "papermill": {
          "duration": 0.070823,
          "end_time": "2022-02-04T05:32:40.480925",
          "exception": false,
          "start_time": "2022-02-04T05:32:40.410102",
          "status": "completed"
        },
        "tags": [],
        "trusted": true,
        "id": "tvKni6zvvRZj",
        "outputId": "dc490786-8980-4b39-db08-ffdfc4bbfbcc",
        "colab": {
          "base_uri": "https://localhost:8080/"
        }
      },
      "execution_count": 52,
      "outputs": [
        {
          "output_type": "execute_result",
          "data": {
            "text/plain": [
              "DeviceArray([[ 10,   1,  24],\n",
              "             [ 20, 100,  14]], dtype=int32)"
            ]
          },
          "metadata": {},
          "execution_count": 52
        }
      ]
    },
    {
      "cell_type": "markdown",
      "source": [
        "**Exercise 15: Add `41` to the value of `data` at index [0, 0]**"
      ],
      "metadata": {
        "papermill": {
          "duration": 0.014636,
          "end_time": "2022-02-04T05:32:40.510737",
          "exception": false,
          "start_time": "2022-02-04T05:32:40.496101",
          "status": "completed"
        },
        "tags": [],
        "id": "DTuYxjVpvRZj"
      }
    },
    {
      "cell_type": "code",
      "source": [
        "data = data.at[0, 0].add(41)\n",
        "data"
      ],
      "metadata": {
        "papermill": {
          "duration": 0.04927,
          "end_time": "2022-02-04T05:32:40.574766",
          "exception": false,
          "start_time": "2022-02-04T05:32:40.525496",
          "status": "completed"
        },
        "tags": [],
        "trusted": true,
        "id": "Sb-5XHQYvRZj",
        "outputId": "b5dfca34-dbc1-4eb4-d0af-76720d8f2434",
        "colab": {
          "base_uri": "https://localhost:8080/"
        }
      },
      "execution_count": 53,
      "outputs": [
        {
          "output_type": "execute_result",
          "data": {
            "text/plain": [
              "DeviceArray([[51,  1, 24],\n",
              "             [20, 15, 14]], dtype=int32)"
            ]
          },
          "metadata": {},
          "execution_count": 53
        }
      ]
    },
    {
      "cell_type": "markdown",
      "source": [
        "**Exercise 16: Calculate the minimum values over axis=1 and assign it to `mins`**"
      ],
      "metadata": {
        "papermill": {
          "duration": 0.014949,
          "end_time": "2022-02-04T05:32:40.605037",
          "exception": false,
          "start_time": "2022-02-04T05:32:40.590088",
          "status": "completed"
        },
        "tags": [],
        "id": "rFlyjU_9vRZk"
      }
    },
    {
      "cell_type": "code",
      "source": [
        "min = jnp.min(data, axis=1)\n",
        "min"
      ],
      "metadata": {
        "papermill": {
          "duration": 0.045563,
          "end_time": "2022-02-04T05:32:40.665761",
          "exception": false,
          "start_time": "2022-02-04T05:32:40.620198",
          "status": "completed"
        },
        "tags": [],
        "trusted": true,
        "id": "Xc2PzoyWvRZk",
        "outputId": "78f80c24-db88-4c86-cbcc-441e76c2d8c3",
        "colab": {
          "base_uri": "https://localhost:8080/"
        }
      },
      "execution_count": 54,
      "outputs": [
        {
          "output_type": "execute_result",
          "data": {
            "text/plain": [
              "DeviceArray([ 1, 14], dtype=int32)"
            ]
          },
          "metadata": {},
          "execution_count": 54
        }
      ]
    },
    {
      "cell_type": "markdown",
      "source": [
        "**Exercise 17: Select the first row of values of `data` and assign it to `data_select`**"
      ],
      "metadata": {
        "papermill": {
          "duration": 0.015089,
          "end_time": "2022-02-04T05:32:40.69668",
          "exception": false,
          "start_time": "2022-02-04T05:32:40.681591",
          "status": "completed"
        },
        "tags": [],
        "id": "H4rwzcVwvRZk"
      }
    },
    {
      "cell_type": "code",
      "source": [
        "# data_select = data[:, 0]\n",
        "data_select = data[0]\n",
        "data_select"
      ],
      "metadata": {
        "papermill": {
          "duration": 0.038962,
          "end_time": "2022-02-04T05:32:40.751039",
          "exception": false,
          "start_time": "2022-02-04T05:32:40.712077",
          "status": "completed"
        },
        "tags": [],
        "trusted": true,
        "id": "W05bji8svRZk",
        "outputId": "4470dd54-48b3-4e31-ed58-3efc9173f8b8",
        "colab": {
          "base_uri": "https://localhost:8080/"
        }
      },
      "execution_count": 55,
      "outputs": [
        {
          "output_type": "execute_result",
          "data": {
            "text/plain": [
              "DeviceArray([51,  1, 24], dtype=int32)"
            ]
          },
          "metadata": {},
          "execution_count": 55
        }
      ]
    },
    {
      "cell_type": "markdown",
      "source": [
        "**Exercise 18: Append the row `data_select` to `data`**"
      ],
      "metadata": {
        "papermill": {
          "duration": 0.015551,
          "end_time": "2022-02-04T05:32:40.783104",
          "exception": false,
          "start_time": "2022-02-04T05:32:40.767553",
          "status": "completed"
        },
        "tags": [],
        "id": "iJMqz0SUvRZk"
      }
    },
    {
      "cell_type": "code",
      "source": [
        "# data = jnp.append(data, data_select, axis=0)\n",
        "data = jnp.vstack([data, data_select])\n",
        "data"
      ],
      "metadata": {
        "papermill": {
          "duration": 0.045961,
          "end_time": "2022-02-04T05:32:40.845032",
          "exception": false,
          "start_time": "2022-02-04T05:32:40.799071",
          "status": "completed"
        },
        "tags": [],
        "trusted": true,
        "id": "LOYCKr4AvRZl",
        "outputId": "7316a45e-744b-4b04-d4d7-11f1f309cd80",
        "colab": {
          "base_uri": "https://localhost:8080/"
        }
      },
      "execution_count": 56,
      "outputs": [
        {
          "output_type": "execute_result",
          "data": {
            "text/plain": [
              "DeviceArray([[51,  1, 24],\n",
              "             [20, 15, 14],\n",
              "             [51,  1, 24]], dtype=int32)"
            ]
          },
          "metadata": {},
          "execution_count": 56
        }
      ]
    },
    {
      "cell_type": "markdown",
      "source": [
        "**Exercise 19: Multiply the matrices `data` and `dataT` and assign it to `data_prod`**"
      ],
      "metadata": {
        "papermill": {
          "duration": 0.016189,
          "end_time": "2022-02-04T05:32:40.877297",
          "exception": false,
          "start_time": "2022-02-04T05:32:40.861108",
          "status": "completed"
        },
        "tags": [],
        "id": "sIvsVBEcvRZl"
      }
    },
    {
      "cell_type": "code",
      "source": [
        "data_prod = jnp.dot(data, dataT)\n",
        "data_prod"
      ],
      "metadata": {
        "papermill": {
          "duration": 0.069366,
          "end_time": "2022-02-04T05:32:40.963984",
          "exception": false,
          "start_time": "2022-02-04T05:32:40.894618",
          "status": "completed"
        },
        "tags": [],
        "trusted": true,
        "id": "5_xWvBCsvRZl",
        "outputId": "5c7725cb-5857-41ec-f609-3e17653436ff",
        "colab": {
          "base_uri": "https://localhost:8080/"
        }
      },
      "execution_count": 57,
      "outputs": [
        {
          "output_type": "execute_result",
          "data": {
            "text/plain": [
              "DeviceArray([[1087, 1371],\n",
              "             [ 551,  821],\n",
              "             [1087, 1371]], dtype=int32)"
            ]
          },
          "metadata": {},
          "execution_count": 57
        }
      ]
    },
    {
      "cell_type": "markdown",
      "source": [
        "**Exercise 20: Convert the dtype of `data_prod` to `float32`**"
      ],
      "metadata": {
        "papermill": {
          "duration": 0.022086,
          "end_time": "2022-02-04T05:32:41.006371",
          "exception": false,
          "start_time": "2022-02-04T05:32:40.984285",
          "status": "completed"
        },
        "tags": [],
        "id": "m68DsSUivRZl"
      }
    },
    {
      "cell_type": "code",
      "source": [
        "data_prod = jnp.array(data_prod, dtype=jnp.float32)\n",
        "data_prod"
      ],
      "metadata": {
        "papermill": {
          "duration": 0.047491,
          "end_time": "2022-02-04T05:32:41.071596",
          "exception": false,
          "start_time": "2022-02-04T05:32:41.024105",
          "status": "completed"
        },
        "tags": [],
        "trusted": true,
        "id": "s2x1d87-vRZl",
        "outputId": "322f69c9-9efc-4df7-ffea-29a3060f1301",
        "colab": {
          "base_uri": "https://localhost:8080/"
        }
      },
      "execution_count": 58,
      "outputs": [
        {
          "output_type": "execute_result",
          "data": {
            "text/plain": [
              "DeviceArray([[1087., 1371.],\n",
              "             [ 551.,  821.],\n",
              "             [1087., 1371.]], dtype=float32)"
            ]
          },
          "metadata": {},
          "execution_count": 58
        }
      ]
    },
    {
      "cell_type": "markdown",
      "source": [
        "<center>\n",
        "    This completes Set 2: Data Operations (Exercises 11-20) of <b>JaxTon</b>: <i>💯 JAX exercises</i>\n",
        "    <br>\n",
        "    You can find all the exercises and solutions on <a href=\"https://github.com/vopani/jaxton#exercises-\">GitHub</a>\n",
        "</center>"
      ],
      "metadata": {
        "papermill": {
          "duration": 0.016134,
          "end_time": "2022-02-04T05:32:41.104868",
          "exception": false,
          "start_time": "2022-02-04T05:32:41.088734",
          "status": "completed"
        },
        "tags": [],
        "id": "kqZcP6zVvRZl"
      }
    }
  ]
}