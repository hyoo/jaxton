{
  "metadata": {
    "kernelspec": {
      "language": "python",
      "display_name": "Python 3",
      "name": "python3"
    },
    "language_info": {
      "pygments_lexer": "ipython3",
      "nbconvert_exporter": "python",
      "version": "3.6.4",
      "file_extension": ".py",
      "codemirror_mode": {
        "name": "ipython",
        "version": 3
      },
      "name": "python",
      "mimetype": "text/x-python"
    },
    "colab": {
      "name": "01_jax_introduction_exercises.ipynb",
      "provenance": []
    }
  },
  "nbformat_minor": 0,
  "nbformat": 4,
  "cells": [
    {
      "cell_type": "markdown",
      "source": [
        "<center>\n",
        "    <h1>JaxTon</h1>\n",
        "    <i>💯 JAX exercises</i>\n",
        "    <br>\n",
        "    <br>\n",
        "    <a href='https://github.com/vopani/jaxton/blob/master/LICENSE'>\n",
        "        <img src='https://img.shields.io/badge/license-Apache%202.0-blue.svg?logo=apache'>\n",
        "    </a>\n",
        "    <a href='https://github.com/vopani/jaxton'>\n",
        "        <img src='https://img.shields.io/github/stars/vopani/jaxton?color=yellowgreen&logo=github'>\n",
        "    </a>\n",
        "    <a href='https://twitter.com/vopani'>\n",
        "        <img src='https://img.shields.io/twitter/follow/vopani'>\n",
        "    </a>\n",
        "</center>"
      ],
      "metadata": {
        "papermill": {
          "duration": 0.01716,
          "end_time": "2022-01-09T11:47:46.089693",
          "exception": false,
          "start_time": "2022-01-09T11:47:46.072533",
          "status": "completed"
        },
        "tags": [],
        "id": "M9vtuqNfFwv4"
      }
    },
    {
      "cell_type": "markdown",
      "source": [
        "<center>\n",
        "    This is Set 1: JAX Introduction (Exercises 1-10) of <b>JaxTon</b>: <i>💯 JAX exercises</i>\n",
        "    <br>\n",
        "    You can find all the exercises and solutions on <a href=\"https://github.com/vopani/jaxton#exercises-\">GitHub</a>\n",
        "</center>"
      ],
      "metadata": {
        "papermill": {
          "duration": 0.015686,
          "end_time": "2022-01-09T11:47:46.121910",
          "exception": false,
          "start_time": "2022-01-09T11:47:46.106224",
          "status": "completed"
        },
        "tags": [],
        "id": "gkwL4G1iFwv8"
      }
    },
    {
      "cell_type": "markdown",
      "source": [
        "**Prerequisites**\n",
        "\n",
        "* The configuration of jax should be updated as shown in the code snippet below in order to use TPUs"
      ],
      "metadata": {
        "papermill": {
          "duration": 0.015589,
          "end_time": "2022-01-09T11:47:46.153440",
          "exception": false,
          "start_time": "2022-01-09T11:47:46.137851",
          "status": "completed"
        },
        "tags": [],
        "id": "TKswNukOFwv8"
      }
    },
    {
      "cell_type": "code",
      "source": [
        "## install jax\n",
        "!python3 -m pip install jax"
      ],
      "metadata": {
        "_kg_hide-input": true,
        "_kg_hide-output": true,
        "execution": {
          "iopub.status.busy": "2022-02-01T05:15:52.232301Z",
          "iopub.execute_input": "2022-02-01T05:15:52.233056Z",
          "iopub.status.idle": "2022-02-01T05:16:01.638479Z",
          "shell.execute_reply.started": "2022-02-01T05:15:52.232936Z",
          "shell.execute_reply": "2022-02-01T05:16:01.637345Z"
        },
        "trusted": true,
        "id": "gy6Ye4QiFwv9"
      },
      "execution_count": null,
      "outputs": []
    },
    {
      "cell_type": "code",
      "source": [
        "## import packages\n",
        "import jax\n",
        "import os\n",
        "import requests\n",
        "\n",
        "## setup JAX to use TPUs if available\n",
        "try:\n",
        "    url = 'http:' + os.environ['TPU_NAME'].split(':')[1] + ':8475/requestversion/tpu_driver_nightly'\n",
        "    resp = requests.post(url)\n",
        "    jax.config.FLAGS.jax_xla_backend = 'tpu_driver'\n",
        "    jax.config.FLAGS.jax_backend_target = os.environ['TPU_NAME']\n",
        "except:\n",
        "    pass\n",
        "\n",
        "jax.devices()"
      ],
      "metadata": {
        "_kg_hide-input": false,
        "papermill": {
          "duration": 1.693423,
          "end_time": "2022-01-09T11:47:47.862757",
          "exception": false,
          "start_time": "2022-01-09T11:47:46.169334",
          "status": "completed"
        },
        "tags": [],
        "execution": {
          "iopub.status.busy": "2022-02-01T05:16:22.664800Z",
          "iopub.execute_input": "2022-02-01T05:16:22.665114Z",
          "iopub.status.idle": "2022-02-01T05:17:01.336694Z",
          "shell.execute_reply.started": "2022-02-01T05:16:22.665080Z",
          "shell.execute_reply": "2022-02-01T05:17:01.335673Z"
        },
        "trusted": true,
        "id": "MwBaYyYuFwv-"
      },
      "execution_count": null,
      "outputs": []
    },
    {
      "cell_type": "markdown",
      "source": [
        "**Exercise 1: Install the `jax` package**"
      ],
      "metadata": {
        "papermill": {
          "duration": 0.015931,
          "end_time": "2022-01-09T11:47:47.894827",
          "exception": false,
          "start_time": "2022-01-09T11:47:47.878896",
          "status": "completed"
        },
        "tags": [],
        "id": "bT_gkI-VFwv-"
      }
    },
    {
      "cell_type": "code",
      "source": [
        ""
      ],
      "metadata": {
        "papermill": {
          "duration": 9.887596,
          "end_time": "2022-01-09T11:47:57.799261",
          "exception": false,
          "start_time": "2022-01-09T11:47:47.911665",
          "status": "completed"
        },
        "tags": [],
        "execution": {
          "iopub.status.busy": "2022-02-01T05:17:14.073431Z",
          "iopub.execute_input": "2022-02-01T05:17:14.073981Z",
          "iopub.status.idle": "2022-02-01T05:17:25.546204Z",
          "shell.execute_reply.started": "2022-02-01T05:17:14.073939Z",
          "shell.execute_reply": "2022-02-01T05:17:25.544868Z"
        },
        "trusted": true,
        "id": "hDLHJ1bVFwv-"
      },
      "execution_count": null,
      "outputs": []
    },
    {
      "cell_type": "markdown",
      "source": [
        "**Exercise 2: Import the `jax` package**"
      ],
      "metadata": {
        "papermill": {
          "duration": 0.01668,
          "end_time": "2022-01-09T11:47:57.833721",
          "exception": false,
          "start_time": "2022-01-09T11:47:57.817041",
          "status": "completed"
        },
        "tags": [],
        "id": "iMSrYRbQFwv_"
      }
    },
    {
      "cell_type": "code",
      "source": [
        ""
      ],
      "metadata": {
        "papermill": {
          "duration": 0.024826,
          "end_time": "2022-01-09T11:47:57.875624",
          "exception": false,
          "start_time": "2022-01-09T11:47:57.850798",
          "status": "completed"
        },
        "tags": [],
        "execution": {
          "iopub.status.busy": "2022-02-01T05:17:32.165100Z",
          "iopub.execute_input": "2022-02-01T05:17:32.165718Z",
          "iopub.status.idle": "2022-02-01T05:17:32.171711Z",
          "shell.execute_reply.started": "2022-02-01T05:17:32.165657Z",
          "shell.execute_reply": "2022-02-01T05:17:32.170690Z"
        },
        "trusted": true,
        "id": "xQ-OrewPFwv_"
      },
      "execution_count": null,
      "outputs": []
    },
    {
      "cell_type": "markdown",
      "source": [
        "**Exercise 3: Display the version of `jax`**"
      ],
      "metadata": {
        "papermill": {
          "duration": 0.016778,
          "end_time": "2022-01-09T11:47:57.909635",
          "exception": false,
          "start_time": "2022-01-09T11:47:57.892857",
          "status": "completed"
        },
        "tags": [],
        "id": "e_MUpzy6FwwA"
      }
    },
    {
      "cell_type": "code",
      "source": [
        ""
      ],
      "metadata": {
        "papermill": {
          "duration": 0.028537,
          "end_time": "2022-01-09T11:47:57.955199",
          "exception": false,
          "start_time": "2022-01-09T11:47:57.926662",
          "status": "completed"
        },
        "tags": [],
        "execution": {
          "iopub.status.busy": "2022-02-01T05:17:33.885396Z",
          "iopub.execute_input": "2022-02-01T05:17:33.885923Z",
          "iopub.status.idle": "2022-02-01T05:17:33.893740Z",
          "shell.execute_reply.started": "2022-02-01T05:17:33.885883Z",
          "shell.execute_reply": "2022-02-01T05:17:33.892733Z"
        },
        "trusted": true,
        "id": "hlQixJsCFwwA"
      },
      "execution_count": null,
      "outputs": []
    },
    {
      "cell_type": "markdown",
      "source": [
        "**Exercise 4: Display the default backend of `jax`**"
      ],
      "metadata": {
        "papermill": {
          "duration": 0.016987,
          "end_time": "2022-01-09T11:47:57.989727",
          "exception": false,
          "start_time": "2022-01-09T11:47:57.972740",
          "status": "completed"
        },
        "tags": [],
        "id": "utUThv0FFwwA"
      }
    },
    {
      "cell_type": "code",
      "source": [
        ""
      ],
      "metadata": {
        "papermill": {
          "duration": 0.050031,
          "end_time": "2022-01-09T11:47:58.057205",
          "exception": false,
          "start_time": "2022-01-09T11:47:58.007174",
          "status": "completed"
        },
        "tags": [],
        "execution": {
          "iopub.status.busy": "2022-02-01T05:17:38.119275Z",
          "iopub.execute_input": "2022-02-01T05:17:38.119707Z",
          "iopub.status.idle": "2022-02-01T05:17:38.127827Z",
          "shell.execute_reply.started": "2022-02-01T05:17:38.119666Z",
          "shell.execute_reply": "2022-02-01T05:17:38.126642Z"
        },
        "trusted": true,
        "id": "pRtjmO9cFwwA"
      },
      "execution_count": null,
      "outputs": []
    },
    {
      "cell_type": "markdown",
      "source": [
        "**Exercise 5: Display the devices of the backend**"
      ],
      "metadata": {
        "papermill": {
          "duration": 0.017468,
          "end_time": "2022-01-09T11:47:58.092399",
          "exception": false,
          "start_time": "2022-01-09T11:47:58.074931",
          "status": "completed"
        },
        "tags": [],
        "id": "gVvGmTOpFwwB"
      }
    },
    {
      "cell_type": "code",
      "source": [
        ""
      ],
      "metadata": {
        "papermill": {
          "duration": 0.025322,
          "end_time": "2022-01-09T11:47:58.135399",
          "exception": false,
          "start_time": "2022-01-09T11:47:58.110077",
          "status": "completed"
        },
        "tags": [],
        "execution": {
          "iopub.status.busy": "2022-02-01T05:17:40.629603Z",
          "iopub.execute_input": "2022-02-01T05:17:40.630112Z",
          "iopub.status.idle": "2022-02-01T05:17:40.638453Z",
          "shell.execute_reply.started": "2022-02-01T05:17:40.630062Z",
          "shell.execute_reply": "2022-02-01T05:17:40.637148Z"
        },
        "trusted": true,
        "id": "FIYETxzuFwwB"
      },
      "execution_count": null,
      "outputs": []
    },
    {
      "cell_type": "markdown",
      "source": [
        "**Exercise 6: Create a JAX DeviceArray with values [10, 1, 24] and assign it to `data`**"
      ],
      "metadata": {
        "papermill": {
          "duration": 0.017909,
          "end_time": "2022-01-09T11:47:58.171633",
          "exception": false,
          "start_time": "2022-01-09T11:47:58.153724",
          "status": "completed"
        },
        "tags": [],
        "id": "TcbZM8kkFwwB"
      }
    },
    {
      "cell_type": "code",
      "source": [
        ""
      ],
      "metadata": {
        "papermill": {
          "duration": 0.241411,
          "end_time": "2022-01-09T11:47:58.431082",
          "exception": false,
          "start_time": "2022-01-09T11:47:58.189671",
          "status": "completed"
        },
        "tags": [],
        "execution": {
          "iopub.status.busy": "2022-02-01T05:18:28.960026Z",
          "iopub.execute_input": "2022-02-01T05:18:28.960603Z",
          "iopub.status.idle": "2022-02-01T05:18:28.985599Z",
          "shell.execute_reply.started": "2022-02-01T05:18:28.960550Z",
          "shell.execute_reply": "2022-02-01T05:18:28.984531Z"
        },
        "trusted": true,
        "id": "yVoTLvjaFwwB"
      },
      "execution_count": null,
      "outputs": []
    },
    {
      "cell_type": "markdown",
      "source": [
        "**Exercise 7: Display the type of `data`**"
      ],
      "metadata": {
        "papermill": {
          "duration": 0.018122,
          "end_time": "2022-01-09T11:47:58.467996",
          "exception": false,
          "start_time": "2022-01-09T11:47:58.449874",
          "status": "completed"
        },
        "tags": [],
        "id": "zr1pOordFwwB"
      }
    },
    {
      "cell_type": "code",
      "source": [
        ""
      ],
      "metadata": {
        "papermill": {
          "duration": 0.027493,
          "end_time": "2022-01-09T11:47:58.513999",
          "exception": false,
          "start_time": "2022-01-09T11:47:58.486506",
          "status": "completed"
        },
        "tags": [],
        "execution": {
          "iopub.status.busy": "2022-02-01T05:19:00.958211Z",
          "iopub.execute_input": "2022-02-01T05:19:00.958743Z",
          "iopub.status.idle": "2022-02-01T05:19:00.965711Z",
          "shell.execute_reply.started": "2022-02-01T05:19:00.958703Z",
          "shell.execute_reply": "2022-02-01T05:19:00.964774Z"
        },
        "trusted": true,
        "id": "TSnNG_21FwwC"
      },
      "execution_count": null,
      "outputs": []
    },
    {
      "cell_type": "markdown",
      "source": [
        "**Exercise 8: Display the shape of `data`**"
      ],
      "metadata": {
        "papermill": {
          "duration": 0.018392,
          "end_time": "2022-01-09T11:47:58.551080",
          "exception": false,
          "start_time": "2022-01-09T11:47:58.532688",
          "status": "completed"
        },
        "tags": [],
        "id": "k9rMb7J2FwwC"
      }
    },
    {
      "cell_type": "code",
      "source": [
        ""
      ],
      "metadata": {
        "papermill": {
          "duration": 0.02724,
          "end_time": "2022-01-09T11:47:58.598463",
          "exception": false,
          "start_time": "2022-01-09T11:47:58.571223",
          "status": "completed"
        },
        "tags": [],
        "execution": {
          "iopub.status.busy": "2022-02-01T05:19:08.409670Z",
          "iopub.execute_input": "2022-02-01T05:19:08.410642Z",
          "iopub.status.idle": "2022-02-01T05:19:08.418106Z",
          "shell.execute_reply.started": "2022-02-01T05:19:08.410586Z",
          "shell.execute_reply": "2022-02-01T05:19:08.416852Z"
        },
        "trusted": true,
        "id": "g1bsS6xqFwwC"
      },
      "execution_count": null,
      "outputs": []
    },
    {
      "cell_type": "markdown",
      "source": [
        "**Exercise 9: Transfer `data` to host and assign it to `data_host`**"
      ],
      "metadata": {
        "papermill": {
          "duration": 0.018859,
          "end_time": "2022-01-09T11:47:58.636233",
          "exception": false,
          "start_time": "2022-01-09T11:47:58.617374",
          "status": "completed"
        },
        "tags": [],
        "id": "RC63cEYRFwwC"
      }
    },
    {
      "cell_type": "code",
      "source": [
        ""
      ],
      "metadata": {
        "papermill": {
          "duration": 0.028099,
          "end_time": "2022-01-09T11:47:58.683844",
          "exception": false,
          "start_time": "2022-01-09T11:47:58.655745",
          "status": "completed"
        },
        "tags": [],
        "execution": {
          "iopub.status.busy": "2022-02-01T05:19:11.715543Z",
          "iopub.execute_input": "2022-02-01T05:19:11.716423Z",
          "iopub.status.idle": "2022-02-01T05:19:11.727659Z",
          "shell.execute_reply.started": "2022-02-01T05:19:11.716374Z",
          "shell.execute_reply": "2022-02-01T05:19:11.726676Z"
        },
        "trusted": true,
        "id": "qymAzRDdFwwC"
      },
      "execution_count": null,
      "outputs": []
    },
    {
      "cell_type": "markdown",
      "source": [
        "**Exercise 10: Transfer `data_host` to device and assign it to `data_device`**"
      ],
      "metadata": {
        "papermill": {
          "duration": 0.019269,
          "end_time": "2022-01-09T11:47:58.722819",
          "exception": false,
          "start_time": "2022-01-09T11:47:58.703550",
          "status": "completed"
        },
        "tags": [],
        "id": "aEqjMztsFwwD"
      }
    },
    {
      "cell_type": "code",
      "source": [
        ""
      ],
      "metadata": {
        "papermill": {
          "duration": 0.028953,
          "end_time": "2022-01-09T11:47:58.771073",
          "exception": false,
          "start_time": "2022-01-09T11:47:58.742120",
          "status": "completed"
        },
        "tags": [],
        "execution": {
          "iopub.status.busy": "2022-02-01T05:19:14.519851Z",
          "iopub.execute_input": "2022-02-01T05:19:14.520396Z",
          "iopub.status.idle": "2022-02-01T05:19:14.558624Z",
          "shell.execute_reply.started": "2022-02-01T05:19:14.520351Z",
          "shell.execute_reply": "2022-02-01T05:19:14.557573Z"
        },
        "trusted": true,
        "id": "0zgSNK_MFwwD"
      },
      "execution_count": null,
      "outputs": []
    },
    {
      "cell_type": "markdown",
      "source": [
        "✅ This completes Set 1: JAX Introduction (Exercises 1-10) of **JaxTon**: *💯 JAX exercises*\n",
        "\n",
        "You can find all the exercises and solutions on [GitHub](https://github.com/vopani/jaxton#exercises-)"
      ],
      "metadata": {
        "papermill": {
          "duration": 0.019317,
          "end_time": "2022-01-09T11:47:58.810595",
          "exception": false,
          "start_time": "2022-01-09T11:47:58.791278",
          "status": "completed"
        },
        "tags": [],
        "id": "xOI5t7iaFwwD"
      }
    }
  ]
}